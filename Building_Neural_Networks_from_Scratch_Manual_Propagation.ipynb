{
  "cells": [
    {
      "cell_type": "markdown",
      "metadata": {
        "id": "view-in-github",
        "colab_type": "text"
      },
      "source": [
        "<a href=\"https://colab.research.google.com/github/joshuabdixon/Building-Neural-Networks-from-Scratch-Manual-Propagation/blob/main/Building_Neural_Networks_from_Scratch_Manual_Propagation.ipynb\" target=\"_parent\"><img src=\"https://colab.research.google.com/assets/colab-badge.svg\" alt=\"Open In Colab\"/></a>"
      ]
    },
    {
      "cell_type": "markdown",
      "source": [
        "# Building Neural Networks from Scratch: Manual Propagation\n",
        "\n",
        "## Summary, Rationale and Approach\n",
        "In this activity, I developed a simple neural network, aiming to understand the theoretical aspects of neural network creation and the application of gradient descent for optimisation. This activity can be applied to various contexts, such as recommendation engines, image classification, or sentiment analysis.\n",
        "\n",
        "I constructed the neural network manually, performing forward and backward passes to grasp the mechanics and optimisation processes. The network was initialised with specific weights and biases, and input variables were defined. ReLU and Sigmoid activation functions were used for the hidden and output layers, respectively, with their derivatives computed for backpropagation. For conciseness, the detailed derivation process is omitted, focusing instead on the final results. Gradients were calculated manually, and gradient descent was applied to optimise the weights and biases, enhancing the model's accuracy and efficiency. This hands-on approach significantly deepened my understanding of neural network operations and optimisation processes.\n",
        "\n",
        "## Reflections\n",
        "- Explore Network Depth: Try adding more hidden layers or increasing the number of neurons to see how it impacts the model's performance.\n",
        "- Hyperparameter Tuning: Experiment with different learning rates and activation functions to improve the model's accuracy.\n",
        "- Simpler Visualisation Tools: Use basic visualisation tools to plot the loss and accuracy over epochs for better understanding and debugging.\n",
        "\n",
        "## Contents\n",
        "1. Import the relevant libraries\n",
        "2. Define Neural Network Parameters\n",
        "3. Forward Pass\n",
        "4. Backward Pass\n",
        "5. Optimisation and Updates\n"
      ],
      "metadata": {
        "id": "ltwXKT0TCvf6"
      }
    },
    {
      "cell_type": "markdown",
      "source": [
        "### 1. Import Libraries"
      ],
      "metadata": {
        "id": "4oI5_h4ch4UD"
      }
    },
    {
      "cell_type": "code",
      "source": [
        "# Import required libraries\n",
        "import numpy as np\n",
        "import matplotlib.pyplot as plt\n",
        "from tensorflow.keras.models import Sequential\n",
        "from tensorflow.keras.layers import Dense\n",
        "from tensorflow.keras.utils import to_categorical, plot_model"
      ],
      "metadata": {
        "id": "T4g-605kfYbI"
      },
      "execution_count": null,
      "outputs": []
    },
    {
      "cell_type": "markdown",
      "source": [
        "### 2. Define Neural Network Parameters\n",
        "\n",
        "**Hidden Layer Weights (\\( W_1 \\)):**\n",
        "\n",
        "\n",
        "\\begin{bmatrix}\n",
        "0.2 & 0.9 \\\\\n",
        "0.6 & 0.6\n",
        "\\end{bmatrix}\n",
        "\n",
        "**Hidden Layer Biases (\\( b_1 \\)):**\n",
        "\n",
        "\\begin{bmatrix}\n",
        "0.8 & 0.9\n",
        "\\end{bmatrix}\n",
        "\n",
        "**Output Layer Weights (\\( W_2 \\)):**\n",
        "\\begin{bmatrix}\n",
        "0.9 \\\\\n",
        "0.4\n",
        "\\end{bmatrix}\n",
        "\n",
        "**Output Layer Bias (\\( b_2 \\)):**\n",
        "\n",
        "\\begin{bmatrix}\n",
        "0.9\n",
        "\\end{bmatrix}\n",
        "\n",
        "### Formulas\n",
        "\n",
        "**Hidden Layer Input (\\( Z_1 \\)):**\n",
        "\n",
        "\\[ Z_1 = X W_1 + b_1 \\]\n",
        "\n",
        "**Output Layer Input (\\( Z_2 \\)):**\n",
        "\n",
        "\\[ Z_2 = A_1 W_2 + b_2 \\]\n",
        "\n",
        "where \\( A_1 \\) is the output of the hidden layer after applying the ReLU activation function.\n",
        "\n",
        "\\( A_2 \\) is the output of the outer layer after applying the Sigmoid activation function."
      ],
      "metadata": {
        "id": "eVsyu8enUgL3"
      }
    },
    {
      "cell_type": "code",
      "source": [
        "# Initialise the hidden layer weights and biases\n",
        "W_1 = np.array([[0.2, 0.9],\n",
        "                [0.6, 0.6]]) # 2 x 2\n",
        "b_1 = np.array([0.8, 0.9]) # 1 x 2\n",
        "\n",
        "# Initialise the output layer weights and biases\n",
        "W_2 = np.array([[0.9],\n",
        "                [0.4]]) # 2 x 1\n",
        "b_2 = np.array([0.9]) # 1 dimensional array"
      ],
      "metadata": {
        "id": "Mm9kErmtcwVj"
      },
      "execution_count": null,
      "outputs": []
    },
    {
      "cell_type": "code",
      "source": [
        "# Define the input data\n",
        "X = np.array([[0.3, 0.4]]) # 1 x 2"
      ],
      "metadata": {
        "id": "6uGj1k4zmHMs"
      },
      "execution_count": null,
      "outputs": []
    },
    {
      "cell_type": "code",
      "source": [
        "# Define the ReLU function\n",
        "def relu(z):\n",
        "    \"\"\"\n",
        "    Rectified Linear Unit (ReLU) activation function.\n",
        "\n",
        "    Parameters:\n",
        "    z (numpy.ndarray): Input array or matrix.\n",
        "\n",
        "    Returns:\n",
        "    numpy.ndarray: Output array or matrix after applying the ReLU activation.\n",
        "    \"\"\"\n",
        "    return np.maximum(0, z)\n",
        "\n",
        "# Define the derivative of the ReLU function\n",
        "def relu_derivative(z):\n",
        "    \"\"\"\n",
        "    Compute the derivative of the Rectified Linear Unit (ReLU) activation function.\n",
        "\n",
        "    Parameters:\n",
        "    z (numpy.ndarray): Input array or matrix.\n",
        "\n",
        "    Returns:\n",
        "    numpy.ndarray: Derivative array or matrix.\n",
        "    \"\"\"\n",
        "    return np.where(z > 0, 1, 0)\n",
        "\n",
        "\n",
        "def sigmoid(z):\n",
        "    \"\"\"\n",
        "    Sigmoid activation function.\n",
        "\n",
        "    Parameters:\n",
        "    z (numpy.ndarray): Input array or matrix.\n",
        "\n",
        "    Returns:\n",
        "    numpy.ndarray: Output array or matrix after applying the Sigmoid activation.\n",
        "    \"\"\"\n",
        "    return 1 / (1 + np.exp(-z))\n",
        "\n",
        "# Define the derivative of the Sigmoid function\n",
        "def sigmoid_derivative(z):\n",
        "    \"\"\"\n",
        "    Compute the derivative of the Sigmoid activation function.\n",
        "\n",
        "    Parameters:\n",
        "    z (numpy.ndarray): Input array or matrix.\n",
        "\n",
        "    Returns:\n",
        "    numpy.ndarray: Derivative array or matrix.\n",
        "    \"\"\"\n",
        "    a = sigmoid(z)\n",
        "    return a * (1 - a)"
      ],
      "metadata": {
        "id": "HRAZo_4zdNXn"
      },
      "execution_count": null,
      "outputs": []
    },
    {
      "cell_type": "markdown",
      "source": [
        "### 3. Forward Pass"
      ],
      "metadata": {
        "id": "SWDC8WFFmYue"
      }
    },
    {
      "cell_type": "code",
      "source": [
        "# Forward pass through hidden layer\n",
        "Z_1 = np.dot(X, W_1) + b_1\n",
        "A_1 = relu(Z_1)\n",
        "\n",
        "# Forward pass through output layer\n",
        "Z_2 = np.dot(A_1, W_2) + b_2\n",
        "A_2= sigmoid(Z_2)\n"
      ],
      "metadata": {
        "id": "mdktxPW2md9O"
      },
      "execution_count": null,
      "outputs": []
    },
    {
      "cell_type": "code",
      "source": [
        "print(Z_1)\n",
        "print(A_1)\n",
        "print(Z_2)\n",
        "print(A_2)"
      ],
      "metadata": {
        "colab": {
          "base_uri": "https://localhost:8080/"
        },
        "id": "QmCMYW3l7Iaw",
        "outputId": "f471d186-7901-4ace-e310-1ba91908a060"
      },
      "execution_count": null,
      "outputs": [
        {
          "output_type": "stream",
          "name": "stdout",
          "text": [
            "[[1.1  1.41]]\n",
            "[[1.1  1.41]]\n",
            "[[2.454]]\n",
            "[[0.92085347]]\n"
          ]
        }
      ]
    },
    {
      "cell_type": "code",
      "source": [
        "# # Print the input, hidden and output layer\n",
        "print(\"Input, X:\", X)\n",
        "print(\"Hidden layer output, A_1:\", A_1)\n",
        "print(\"Final output, A_2:\", A_2)"
      ],
      "metadata": {
        "colab": {
          "base_uri": "https://localhost:8080/"
        },
        "id": "aK7kp6h2lU0z",
        "outputId": "97d254ae-67ea-4295-efc4-664113013785"
      },
      "execution_count": null,
      "outputs": [
        {
          "output_type": "stream",
          "name": "stdout",
          "text": [
            "Input, X: [[0.3 0.4]]\n",
            "Hidden layer output, A_1: [[1.1  1.41]]\n",
            "Final output, A_2: [[0.92085347]]\n"
          ]
        }
      ]
    },
    {
      "cell_type": "markdown",
      "source": [
        "### 4. Backward Pass"
      ],
      "metadata": {
        "id": "9wrffB__rcNZ"
      }
    },
    {
      "cell_type": "code",
      "source": [
        "# Assume the target for binary classification.\n",
        "y = np.array([[1]])"
      ],
      "metadata": {
        "id": "OtPbZi2zBOf-"
      },
      "execution_count": null,
      "outputs": []
    },
    {
      "cell_type": "code",
      "source": [
        "# Compute the loss derivative with respect to the final output.\n",
        "loss_derivative = A_2 - y # dL/dA2 (since A_2 is the final output)"
      ],
      "metadata": {
        "id": "pLWnWHCT3US_"
      },
      "execution_count": null,
      "outputs": []
    },
    {
      "cell_type": "code",
      "source": [
        "# Run backward pass through the output layer.\n",
        "output_layer_grad = loss_derivative * sigmoid_derivative(Z_2) # dL/dZ2 = dL/dA2 * dA2/dZ2"
      ],
      "metadata": {
        "id": "zvDmb9iqgwLd"
      },
      "execution_count": null,
      "outputs": []
    },
    {
      "cell_type": "code",
      "source": [
        "# Compute the gradients for the output layer parameters.\n",
        "output_weights_grad = np.dot(A_1.T, output_layer_grad) # dL/dW2 = A_1.T * dL/dZ2. Here, dz/dW = A1.T\n",
        "output_biases_grad = np.sum(output_layer_grad, axis=0) # dL/db2 = dL/dZ2 * dz/db2. Since dz/db2 is 1, it's just the sum of dL/dZ2 across the batch"
      ],
      "metadata": {
        "id": "0tryeIB3sRW1"
      },
      "execution_count": null,
      "outputs": []
    },
    {
      "cell_type": "code",
      "source": [
        "# Run the backward pass through the hidden layer.\n",
        "hidden_layer_grad = np.dot(output_layer_grad, W_2.T) * relu_derivative(Z_1)  # dL/dZ1 = (dL/dA1) * (dA1/dZ1), where dL/dA1 = output_layer_grad * W2.T"
      ],
      "metadata": {
        "id": "BEtDirSm3W_k"
      },
      "execution_count": null,
      "outputs": []
    },
    {
      "cell_type": "code",
      "source": [
        "# Compute the gradients for the hidden layer parameters.\n",
        "hidden_weights_grad = np.dot(X.T, hidden_layer_grad) # dL/dW1 = XT * dL/dZ1\n",
        "hidden_biases_grad = np.sum(hidden_layer_grad, axis=0) # dL/db1 = dL/dZ1 * dZ1/db1. Since dZ1/db1 is 1, it's just the sum of dL/dZ1 across the batch"
      ],
      "metadata": {
        "id": "6mBPUdxp3QpP"
      },
      "execution_count": null,
      "outputs": []
    },
    {
      "cell_type": "code",
      "source": [
        "# Print gradients\n",
        "print(f\"Output gradient loss with respect to weights: {output_weights_grad}\")\n",
        "print(f\"Output gradient loss with respect to biases: {output_biases_grad}\")\n",
        "print(f\"Hidden gradient loss with respect to weights: {hidden_weights_grad}\")\n",
        "print(f\"Hidden gradient loss with respect to biases: {hidden_biases_grad}\")"
      ],
      "metadata": {
        "colab": {
          "base_uri": "https://localhost:8080/"
        },
        "id": "lwjdk2R_31Yq",
        "outputId": "f43ad24c-9ece-4fb0-afb5-3ee602c52b1e"
      },
      "execution_count": null,
      "outputs": [
        {
          "output_type": "stream",
          "name": "stdout",
          "text": [
            "Output gradient loss with respect to weights: [[-0.00634522]\n",
            " [-0.00813342]]\n",
            "Output gradient loss with respect to biases: [-0.00576839]\n",
            "Hidden gradient loss with respect to weights: [[-0.00155746 -0.00069221]\n",
            " [-0.00207662 -0.00092294]]\n",
            "Hidden gradient loss with respect to biases: [-0.00519155 -0.00230735]\n"
          ]
        }
      ]
    },
    {
      "cell_type": "markdown",
      "source": [
        "**Interpretation:**\n",
        "The gradients being close to zero indicates that the model's parameters (weights and biases) are near a local minimum of the loss function."
      ],
      "metadata": {
        "id": "MCfsZGDl5qNu"
      }
    },
    {
      "cell_type": "markdown",
      "source": [
        "### 5. Optimisation and Updates"
      ],
      "metadata": {
        "id": "Cuv8ijef55mg"
      }
    },
    {
      "cell_type": "code",
      "source": [
        "# Assume a simple learning rate\n",
        "learning_rate = 0.2\n",
        "\n",
        "# Update the weights and biases using gradient descent.\n",
        "W_1 -= learning_rate * hidden_weights_grad\n",
        "b_1 -= learning_rate * hidden_biases_grad\n",
        "W_2 -= learning_rate * output_weights_grad\n",
        "b_2 -= learning_rate * output_biases_grad"
      ],
      "metadata": {
        "id": "MDu8qFeH6HDS"
      },
      "execution_count": null,
      "outputs": []
    },
    {
      "cell_type": "code",
      "source": [
        "# Print the updated weights and biases.\n",
        "print(\"Updated Hidden Layer Weights:\", W_1)\n",
        "print(\"Updated Hidden Layer Biases:\", b_1)\n",
        "print(\"Updated Output Layer Weights:\", W_2)\n",
        "print(\"Updated Output Layer Biases:\", b_2)\n"
      ],
      "metadata": {
        "colab": {
          "base_uri": "https://localhost:8080/"
        },
        "id": "xTK9jSpS6NyD",
        "outputId": "13ff87ec-cbef-4ecd-8a9b-98cbb56cecac"
      },
      "execution_count": null,
      "outputs": [
        {
          "output_type": "stream",
          "name": "stdout",
          "text": [
            "Updated Hidden Layer Weights: [[0.20031149 0.90013844]\n",
            " [0.60041532 0.60018459]]\n",
            "Updated Hidden Layer Biases: [0.80103831 0.90046147]\n",
            "Updated Output Layer Weights: [[0.90126904]\n",
            " [0.40162668]]\n",
            "Updated Output Layer Biases: [0.90115368]\n"
          ]
        }
      ]
    },
    {
      "cell_type": "markdown",
      "source": [
        "**Interpretation:**\n",
        "- Hidden Layer Weights (W_1): The small updates indicate a slight adjustment to the weights, moving them in the direction that reduces the loss.\n",
        "- Hidden Layer Biases (b_1): Similarly, small updates are made to the biases.\n",
        "- Output Layer Weights (W_2): The weights are incremented slightly, indicating an adjustment towards minimising the loss.\n",
        "- Output Layer Biases (b_2): The bias is incremented slightly as well."
      ],
      "metadata": {
        "id": "A2Mus7mX-Rmc"
      }
    },
    {
      "cell_type": "markdown",
      "source": [
        "The magnitude of updates is small, which is expected given the small gradients and a reasonable learning rate of 0.2.\n",
        "\n",
        "\n",
        "\n",
        "\n",
        "\n"
      ],
      "metadata": {
        "id": "8w-5uRYC-eiY"
      }
    },
    {
      "cell_type": "markdown",
      "source": [
        "###6. Complete code with visualisation"
      ],
      "metadata": {
        "id": "9OrgJoBKFAD3"
      }
    },
    {
      "cell_type": "code",
      "source": [
        "# Define activation functions and their derivatives\n",
        "def sigmoid(z):\n",
        "    return 1 / (1 + np.exp(-z))\n",
        "\n",
        "def relu(z):\n",
        "    return np.maximum(0, z)\n",
        "\n",
        "def relu_derivative(z):\n",
        "    return np.where(z > 0, 1, 0)\n",
        "\n",
        "def sigmoid_derivative(z):\n",
        "    a = sigmoid(z)\n",
        "    return a * (1 - a)\n",
        "\n",
        "# Initialise weights and biases for hidden layer\n",
        "W_1 = np.array([[0.2, 0.9], [0.6, 0.6]])\n",
        "b_1 = np.array([0.8, 0.9])\n",
        "\n",
        "# Initialise weights and biases for output layer\n",
        "W_2 = np.array([[0.9], [0.4]])\n",
        "b_2 = np.array([0.9])\n",
        "\n",
        "# Define the input data\n",
        "X = np.array([[0.3, 0.4]])\n",
        "\n",
        "# Define the target\n",
        "y = np.array([[1]])\n",
        "\n",
        "# Training parameters\n",
        "learning_rate = 0.2\n",
        "epochs = 20\n",
        "\n",
        "# Lists to store loss and accuracy\n",
        "loss_history = []\n",
        "accuracy_history = []\n",
        "\n",
        "for epoch in range(epochs):\n",
        "    # Forward pass through hidden layer\n",
        "    Z_1 = np.dot(X, W_1) + b_1\n",
        "    A_1 = relu(Z_1)\n",
        "\n",
        "    # Forward pass through output layer\n",
        "    Z_2 = np.dot(A_1, W_2) + b_2\n",
        "    A_2 = sigmoid(Z_2)\n",
        "\n",
        "    # Compute the loss\n",
        "    loss = 0.5 * np.mean((A_2 - y) ** 2)\n",
        "    loss_history.append(loss)\n",
        "\n",
        "    # Compute the accuracy\n",
        "    accuracy = np.mean((A_2 > 0.5) == y)\n",
        "    accuracy_history.append(accuracy)\n",
        "\n",
        "    # Backward pass through the output layer\n",
        "    loss_derivative = A_2 - y\n",
        "    output_layer_grad = loss_derivative * sigmoid_derivative(Z_2)\n",
        "    output_weights_grad = np.dot(A_1.T, output_layer_grad)\n",
        "    output_biases_grad = np.sum(output_layer_grad, axis=0)\n",
        "\n",
        "    # Backward pass through the hidden layer\n",
        "    hidden_layer_grad = np.dot(output_layer_grad, W_2.T) * relu_derivative(Z_1)\n",
        "    hidden_weights_grad = np.dot(X.T, hidden_layer_grad)\n",
        "    hidden_biases_grad = np.sum(hidden_layer_grad, axis=0)\n",
        "\n",
        "    # Update the weights and biases using gradient descent\n",
        "    W_1 -= learning_rate * hidden_weights_grad\n",
        "    b_1 -= learning_rate * hidden_biases_grad\n",
        "    W_2 -= learning_rate * output_weights_grad\n",
        "    b_2 -= learning_rate * output_biases_grad\n",
        "\n",
        "    # Print updated weights and biases for debugging\n",
        "    print(f\"Epoch {epoch + 1}/{epochs}\")\n",
        "    print(\"Updated Hidden Layer Weights:\", W_1)\n",
        "    print(\"Updated Hidden Layer Biases:\", b_1)\n",
        "    print(\"Updated Output Layer Weights:\", W_2)\n",
        "    print(\"Updated Output Layer Biases:\", b_2)\n",
        "\n",
        "# Plot the training loss and accuracy\n",
        "plt.figure(figsize=(12, 4))\n",
        "\n",
        "# Plot loss\n",
        "plt.subplot(1, 2, 1)\n",
        "plt.plot(loss_history, label='Training Loss')\n",
        "plt.xlabel('Epochs')\n",
        "plt.ylabel('Loss')\n",
        "plt.legend()\n",
        "plt.title('Training Loss')\n",
        "\n",
        "# Plot accuracy\n",
        "plt.subplot(1, 2, 2)\n",
        "plt.plot(accuracy_history, label='Training Accuracy')\n",
        "plt.xlabel('Epochs')\n",
        "plt.ylabel('Accuracy')\n",
        "plt.legend()\n",
        "plt.title('Training Accuracy')\n",
        "\n",
        "plt.tight_layout()\n",
        "plt.show()\n"
      ],
      "metadata": {
        "colab": {
          "base_uri": "https://localhost:8080/",
          "height": 1000
        },
        "id": "yn-h941TE_W8",
        "outputId": "fdf8610d-6d07-4951-f1a9-a9d4f6c723c0",
        "collapsed": true
      },
      "execution_count": null,
      "outputs": [
        {
          "output_type": "stream",
          "name": "stdout",
          "text": [
            "Epoch 1/20\n",
            "Updated Hidden Layer Weights: [[0.20031149 0.90013844]\n",
            " [0.60041532 0.60018459]]\n",
            "Updated Hidden Layer Biases: [0.80103831 0.90046147]\n",
            "Updated Output Layer Weights: [[0.90126904]\n",
            " [0.40162668]]\n",
            "Updated Output Layer Biases: [0.90115368]\n",
            "Epoch 2/20\n",
            "Updated Hidden Layer Weights: [[0.20062001 0.90027592]\n",
            " [0.60082668 0.6003679 ]]\n",
            "Updated Hidden Layer Biases: [0.8020667  0.90091974]\n",
            "Updated Output Layer Weights: [[0.90252567]\n",
            " [0.40323621]]\n",
            "Updated Output Layer Biases: [0.90229472]\n",
            "Epoch 3/20\n",
            "Updated Hidden Layer Weights: [[0.2009256  0.90041246]\n",
            " [0.60123413 0.60054994]]\n",
            "Updated Hidden Layer Biases: [0.80308534 0.90137486]\n",
            "Updated Output Layer Weights: [[0.90377011]\n",
            " [0.40482892]]\n",
            "Updated Output Layer Biases: [0.90342338]\n",
            "Epoch 4/20\n",
            "Updated Hidden Layer Weights: [[0.20122832 0.90054806]\n",
            " [0.60163776 0.60073074]]\n",
            "Updated Hidden Layer Biases: [0.8040944  0.90182685]\n",
            "Updated Output Layer Weights: [[0.90500257]\n",
            " [0.40640511]]\n",
            "Updated Output Layer Biases: [0.90453988]\n",
            "Epoch 5/20\n",
            "Updated Hidden Layer Weights: [[0.20152822 0.90068273]\n",
            " [0.60203762 0.6009103 ]]\n",
            "Updated Hidden Layer Biases: [0.80509405 0.90227576]\n",
            "Updated Output Layer Weights: [[0.90622327]\n",
            " [0.40796509]]\n",
            "Updated Output Layer Biases: [0.90564447]\n",
            "Epoch 6/20\n",
            "Updated Hidden Layer Weights: [[0.20182534 0.90081649]\n",
            " [0.60243378 0.60108865]]\n",
            "Updated Hidden Layer Biases: [0.80608446 0.90272162]\n",
            "Updated Output Layer Weights: [[0.90743241]\n",
            " [0.40950918]]\n",
            "Updated Output Layer Biases: [0.90673736]\n",
            "Epoch 7/20\n",
            "Updated Hidden Layer Weights: [[0.20211973 0.90094934]\n",
            " [0.60282631 0.60126579]]\n",
            "Updated Hidden Layer Biases: [0.80706577 0.90316447]\n",
            "Updated Output Layer Weights: [[0.90863019]\n",
            " [0.41103766]]\n",
            "Updated Output Layer Biases: [0.90781877]\n",
            "Epoch 8/20\n",
            "Updated Hidden Layer Weights: [[0.20241144 0.9010813 ]\n",
            " [0.60321526 0.60144174]]\n",
            "Updated Hidden Layer Biases: [0.80803814 0.90360435]\n",
            "Updated Output Layer Weights: [[0.90981681]\n",
            " [0.41255081]]\n",
            "Updated Output Layer Biases: [0.90888893]\n",
            "Epoch 9/20\n",
            "Updated Hidden Layer Weights: [[0.20270052 0.90121238]\n",
            " [0.60360069 0.60161651]]\n",
            "Updated Hidden Layer Biases: [0.80900173 0.90404128]\n",
            "Updated Output Layer Weights: [[0.91099247]\n",
            " [0.41404891]]\n",
            "Updated Output Layer Biases: [0.90994803]\n",
            "Epoch 10/20\n",
            "Updated Hidden Layer Weights: [[0.202987   0.90134259]\n",
            " [0.60398267 0.60179012]]\n",
            "Updated Hidden Layer Biases: [0.80995668 0.90447531]\n",
            "Updated Output Layer Weights: [[0.91215734]\n",
            " [0.41553224]]\n",
            "Updated Output Layer Biases: [0.91099628]\n",
            "Epoch 11/20\n",
            "Updated Hidden Layer Weights: [[0.20327094 0.90147194]\n",
            " [0.60436125 0.60196259]]\n",
            "Updated Hidden Layer Biases: [0.81090313 0.90490646]\n",
            "Updated Output Layer Weights: [[0.91331161]\n",
            " [0.41700106]]\n",
            "Updated Output Layer Biases: [0.91203388]\n",
            "Epoch 12/20\n",
            "Updated Hidden Layer Weights: [[0.20355237 0.90160043]\n",
            " [0.60473649 0.60213391]]\n",
            "Updated Hidden Layer Biases: [0.81184123 0.90533478]\n",
            "Updated Output Layer Weights: [[0.91445546]\n",
            " [0.41845562]]\n",
            "Updated Output Layer Biases: [0.91306102]\n",
            "Epoch 13/20\n",
            "Updated Hidden Layer Weights: [[0.20383133 0.90172809]\n",
            " [0.60510844 0.60230412]]\n",
            "Updated Hidden Layer Biases: [0.8127711  0.90576029]\n",
            "Updated Output Layer Weights: [[0.91558906]\n",
            " [0.41989618]]\n",
            "Updated Output Layer Biases: [0.91407788]\n",
            "Epoch 14/20\n",
            "Updated Hidden Layer Weights: [[0.20410787 0.90185491]\n",
            " [0.60547716 0.60247321]]\n",
            "Updated Hidden Layer Biases: [0.81369289 0.90618303]\n",
            "Updated Output Layer Weights: [[0.91671257]\n",
            " [0.42132297]]\n",
            "Updated Output Layer Biases: [0.91508465]\n",
            "Epoch 15/20\n",
            "Updated Hidden Layer Weights: [[0.20438202 0.90198091]\n",
            " [0.60584269 0.60264121]]\n",
            "Updated Hidden Layer Biases: [0.81460672 0.90660303]\n",
            "Updated Output Layer Weights: [[0.91782618]\n",
            " [0.42273624]]\n",
            "Updated Output Layer Biases: [0.9160815]\n",
            "Epoch 16/20\n",
            "Updated Hidden Layer Weights: [[0.20465382 0.9021061 ]\n",
            " [0.60620509 0.60280813]]\n",
            "Updated Hidden Layer Biases: [0.81551272 0.90702032]\n",
            "Updated Output Layer Weights: [[0.91893003]\n",
            " [0.42413622]]\n",
            "Updated Output Layer Biases: [0.91706862]\n",
            "Epoch 17/20\n",
            "Updated Hidden Layer Weights: [[0.2049233  0.90223048]\n",
            " [0.60656441 0.60297397]]\n",
            "Updated Hidden Layer Biases: [0.81641101 0.90743493]\n",
            "Updated Output Layer Weights: [[0.92002428]\n",
            " [0.42552313]]\n",
            "Updated Output Layer Biases: [0.91804616]\n",
            "Epoch 18/20\n",
            "Updated Hidden Layer Weights: [[0.20519052 0.90235407]\n",
            " [0.60692069 0.60313876]]\n",
            "Updated Hidden Layer Biases: [0.81730172 0.90784689]\n",
            "Updated Output Layer Weights: [[0.92110909]\n",
            " [0.4268972 ]]\n",
            "Updated Output Layer Biases: [0.9190143]\n",
            "Epoch 19/20\n",
            "Updated Hidden Layer Weights: [[0.20545549 0.90247687]\n",
            " [0.60727399 0.6033025 ]]\n",
            "Updated Hidden Layer Biases: [0.81818497 0.90825624]\n",
            "Updated Output Layer Weights: [[0.92218461]\n",
            " [0.42825865]]\n",
            "Updated Output Layer Biases: [0.91997319]\n",
            "Epoch 20/20\n",
            "Updated Hidden Layer Weights: [[0.20571826 0.9025989 ]\n",
            " [0.60762434 0.6034652 ]]\n",
            "Updated Hidden Layer Biases: [0.81906086 0.908663  ]\n",
            "Updated Output Layer Weights: [[0.92325098]\n",
            " [0.42960767]]\n",
            "Updated Output Layer Biases: [0.92092299]\n"
          ]
        },
        {
          "output_type": "display_data",
          "data": {
            "text/plain": [
              "<Figure size 1200x400 with 2 Axes>"
            ],
            "image/png": "[encoded data removed]"
          },
          "metadata": {}
        }
      ]
    }
  ],
  "metadata": {
    "colab": {
      "provenance": [],
      "include_colab_link": true
    },
    "kernelspec": {
      "display_name": "Python 3",
      "name": "python3"
    }
  },
  "nbformat": 4,
  "nbformat_minor": 0
}